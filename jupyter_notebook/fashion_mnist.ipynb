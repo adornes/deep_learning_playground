{
 "cells": [
  {
   "cell_type": "markdown",
   "metadata": {},
   "source": [
    "# Fashion MNIST with Keras"
   ]
  },
  {
   "cell_type": "markdown",
   "metadata": {},
   "source": [
    "This notebook shows a Convolutional Neural Network (CNN) being trained over [Fashion MNIST Dataset](https://github.com/zalandoresearch/fashion-mnist) proposed by [Zalando](https://zalando.com/).\n",
    "\n",
    "Code is based on a [pyimagesearch post](https://www.pyimagesearch.com/2019/02/11/fashion-mnist-with-keras-and-deep-learning/) with some customizations. :)"
   ]
  },
  {
   "cell_type": "markdown",
   "metadata": {},
   "source": [
    "## Base code\n",
    "\n",
    "As a good practice, I use to keep some base source code externally to the notebook, which is accomplished by the following code."
   ]
  },
  {
   "cell_type": "code",
   "execution_count": 1,
   "metadata": {},
   "outputs": [],
   "source": [
    "%load_ext autoreload\n",
    "%autoreload 2"
   ]
  },
  {
   "cell_type": "code",
   "execution_count": 8,
   "metadata": {},
   "outputs": [],
   "source": [
    "import os\n",
    "import sys\n",
    "cwd = os.getcwd()\n",
    "if cwd not in sys.path:\n",
    "    sys.path.append(cwd)\n",
    "if '/home/adornes/src/fashion_mnist/' not in sys.path:\n",
    "    sys.path.append('/home/adornes/src/fashion_mnist/')\n",
    "if '/home/adornes/src/models/' not in sys.path:\n",
    "    sys.path.append('/home/adornes/src/models/')\n",
    "if '/home/adornes/utils/' not in sys.path:\n",
    "    sys.path.append('/home/adornes/src/utils/')\n",
    "    \n",
    "%aimport minivggnet\n",
    "%aimport fashion_mnist_data\n",
    "%aimport history_persistence\n",
    "\n",
    "%matplotlib inline"
   ]
  },
  {
   "cell_type": "code",
   "execution_count": 3,
   "metadata": {},
   "outputs": [
    {
     "data": {
      "text/html": [
       "<style>\n",
       ".container { width:95% !important; }\n",
       "</style>\n"
      ],
      "text/plain": [
       "<IPython.core.display.HTML object>"
      ]
     },
     "metadata": {},
     "output_type": "display_data"
    }
   ],
   "source": [
    "%%html\n",
    "<style>\n",
    ".container { width:95% !important; }\n",
    "</style>"
   ]
  },
  {
   "cell_type": "code",
   "execution_count": 4,
   "metadata": {},
   "outputs": [],
   "source": [
    "import matplotlib\n",
    "matplotlib.use(\"Agg\")\n",
    "\n",
    "import fashion_mnist_data\n",
    "\n",
    "from minivggnet import MiniVGGNet\n",
    "from history_persistence import save_history, load_history\n",
    "\n",
    "from sklearn.metrics import classification_report\n",
    "from keras.optimizers import SGD\n",
    "from keras.models import model_from_json\n",
    "from keras.datasets import fashion_mnist\n",
    "from keras.utils import np_utils\n",
    "from keras import backend as K\n",
    "from imutils import build_montages\n",
    "import matplotlib.pyplot as plt\n",
    "import numpy as np\n",
    "import cv2"
   ]
  },
  {
   "cell_type": "markdown",
   "metadata": {},
   "source": [
    "## Training configs"
   ]
  },
  {
   "cell_type": "markdown",
   "metadata": {},
   "source": [
    "Number of *epochs* (`NUM_EPOCHS`), base *learning rate* (`INIT_LR`) and number of *batches* (`BS`) may be adjusted depending on the environment in which the model is going to be trained."
   ]
  },
  {
   "cell_type": "code",
   "execution_count": 5,
   "metadata": {},
   "outputs": [],
   "source": [
    "NUM_EPOCHS = 25\n",
    "INIT_LR = 1e-2\n",
    "BS = 32"
   ]
  },
  {
   "cell_type": "markdown",
   "metadata": {},
   "source": [
    "Input images are assumed to be:\n",
    "* Converted to grayscale (depth=1).\n",
    "* Segmented, such that all background pixels are black and all foreground pixels are some gray, non-black pixel intensity.\n",
    "* Resized to 28×28 pixels."
   ]
  },
  {
   "cell_type": "code",
   "execution_count": 6,
   "metadata": {},
   "outputs": [],
   "source": [
    "IMG_WIDTH = 28\n",
    "IMG_HEIGHT = 28\n",
    "IMG_DEPTH = 1"
   ]
  },
  {
   "cell_type": "markdown",
   "metadata": {},
   "source": [
    "Load the Fashion MNIST dataset:"
   ]
  },
  {
   "cell_type": "code",
   "execution_count": 10,
   "metadata": {},
   "outputs": [],
   "source": [
    "((trainX, trainY), (testX, testY)) = fashion_mnist_data.load_train_test(path=\"/home/adornes/data/fashion_mnist/\")"
   ]
  },
  {
   "cell_type": "markdown",
   "metadata": {},
   "source": [
    "Depending on the backend framework, Keras will consider different formats for data."
   ]
  },
  {
   "cell_type": "code",
   "execution_count": 11,
   "metadata": {},
   "outputs": [],
   "source": [
    "if K.image_data_format() == \"channels_first\":\n",
    "    trainX = trainX.reshape((trainX.shape[0], IMG_DEPTH, IMG_WIDTH, IMG_HEIGHT))\n",
    "    testX = testX.reshape((testX.shape[0], IMG_DEPTH, IMG_WIDTH, IMG_HEIGHT))\n",
    "\n",
    "else:\n",
    "    trainX = trainX.reshape((trainX.shape[0], IMG_WIDTH, IMG_HEIGHT, IMG_DEPTH))\n",
    "    testX = testX.reshape((testX.shape[0], IMG_WIDTH, IMG_HEIGHT, IMG_DEPTH))"
   ]
  },
  {
   "cell_type": "code",
   "execution_count": 12,
   "metadata": {},
   "outputs": [],
   "source": [
    "# scale data to the range of [0, 1]\n",
    "trainX = trainX.astype(\"float32\") / 255.0\n",
    "testX = testX.astype(\"float32\") / 255.0\n",
    "\n",
    "# one-hot encode the training and testing labels\n",
    "trainY = np_utils.to_categorical(trainY, 10)\n",
    "testY = np_utils.to_categorical(testY, 10)\n",
    "\n",
    "# initialize the label names\n",
    "labelNames = [\"top\", \"trouser\", \"pullover\", \"dress\", \"coat\",\n",
    "    \"sandal\", \"shirt\", \"sneaker\", \"bag\", \"ankle boot\"]"
   ]
  },
  {
   "cell_type": "markdown",
   "metadata": {},
   "source": [
    "## Compiling and training the model"
   ]
  },
  {
   "cell_type": "code",
   "execution_count": 14,
   "metadata": {},
   "outputs": [
    {
     "name": "stdout",
     "output_type": "stream",
     "text": [
      "[INFO] compiling model...\n"
     ]
    }
   ],
   "source": [
    "# initialize the optimizer and model\n",
    "print(\"[INFO] compiling model...\")\n",
    "opt = SGD(lr=INIT_LR, momentum=0.9, decay=INIT_LR / NUM_EPOCHS)\n",
    "model = MiniVGGNet.build(width=IMG_WIDTH, height=IMG_HEIGHT, depth=IMG_DEPTH, classes=10)\n",
    "model.compile(loss=\"categorical_crossentropy\", optimizer=opt, metrics=[\"accuracy\"])"
   ]
  },
  {
   "cell_type": "code",
   "execution_count": 10,
   "metadata": {},
   "outputs": [
    {
     "name": "stdout",
     "output_type": "stream",
     "text": [
      "[INFO] training model...\n",
      "Train on 60000 samples, validate on 10000 samples\n",
      "Epoch 1/25\n",
      "60000/60000 [==============================] - 151s 3ms/step - loss: 0.5310 - accuracy: 0.8210 - val_loss: 0.3207 - val_accuracy: 0.8875\n",
      "Epoch 2/25\n",
      "60000/60000 [==============================] - 154s 3ms/step - loss: 0.3391 - accuracy: 0.8784 - val_loss: 0.3183 - val_accuracy: 0.8806\n",
      "Epoch 3/25\n",
      "60000/60000 [==============================] - 155s 3ms/step - loss: 0.2910 - accuracy: 0.8946 - val_loss: 0.2533 - val_accuracy: 0.9044\n",
      "Epoch 4/25\n",
      "60000/60000 [==============================] - 159s 3ms/step - loss: 0.2699 - accuracy: 0.9026 - val_loss: 0.2313 - val_accuracy: 0.9173 0.2700 - accu\n",
      "Epoch 5/25\n",
      "60000/60000 [==============================] - 143s 2ms/step - loss: 0.2509 - accuracy: 0.9098 - val_loss: 0.2416 - val_accuracy: 0.9112\n",
      "Epoch 6/25\n",
      "60000/60000 [==============================] - 142s 2ms/step - loss: 0.2405 - accuracy: 0.9132 - val_loss: 0.2307 - val_accuracy: 0.9162\n",
      "Epoch 7/25\n",
      "60000/60000 [==============================] - 142s 2ms/step - loss: 0.2319 - accuracy: 0.9165 - val_loss: 0.2084 - val_accuracy: 0.9233\n",
      "Epoch 8/25\n",
      "60000/60000 [==============================] - 157s 3ms/step - loss: 0.2208 - accuracy: 0.9195 - val_loss: 0.2068 - val_accuracy: 0.9240\n",
      "Epoch 9/25\n",
      "60000/60000 [==============================] - 157s 3ms/step - loss: 0.2154 - accuracy: 0.9215 - val_loss: 0.2035 - val_accuracy: 0.9245\n",
      "Epoch 10/25\n",
      "60000/60000 [==============================] - 150s 2ms/step - loss: 0.2140 - accuracy: 0.9232 - val_loss: 0.2022 - val_accuracy: 0.9264\n",
      "Epoch 11/25\n",
      "60000/60000 [==============================] - 148s 2ms/step - loss: 0.2095 - accuracy: 0.9233 - val_loss: 0.2013 - val_accuracy: 0.9256\n",
      "Epoch 12/25\n",
      "60000/60000 [==============================] - 158s 3ms/step - loss: 0.2026 - accuracy: 0.9264 - val_loss: 0.1987 - val_accuracy: 0.9255\n",
      "Epoch 13/25\n",
      "60000/60000 [==============================] - 159s 3ms/step - loss: 0.1972 - accuracy: 0.9280 - val_loss: 0.1945 - val_accuracy: 0.9271\n",
      "Epoch 14/25\n",
      "60000/60000 [==============================] - 151s 3ms/step - loss: 0.1954 - accuracy: 0.9289 - val_loss: 0.1906 - val_accuracy: 0.9288\n",
      "Epoch 15/25\n",
      "60000/60000 [==============================] - 149s 2ms/step - loss: 0.1912 - accuracy: 0.9304 - val_loss: 0.1927 - val_accuracy: 0.9283\n",
      "Epoch 16/25\n",
      "60000/60000 [==============================] - 148s 2ms/step - loss: 0.1896 - accuracy: 0.9313 - val_loss: 0.1896 - val_accuracy: 0.9298\n",
      "Epoch 17/25\n",
      "60000/60000 [==============================] - 150s 2ms/step - loss: 0.1880 - accuracy: 0.9309 - val_loss: 0.1885 - val_accuracy: 0.9299\n",
      "Epoch 18/25\n",
      "60000/60000 [==============================] - 165s 3ms/step - loss: 0.1844 - accuracy: 0.9337 - val_loss: 0.1919 - val_accuracy: 0.9312\n",
      "Epoch 19/25\n",
      "60000/60000 [==============================] - 152s 3ms/step - loss: 0.1823 - accuracy: 0.9334 - val_loss: 0.1860 - val_accuracy: 0.9291\n",
      "Epoch 20/25\n",
      "60000/60000 [==============================] - 153s 3ms/step - loss: 0.1804 - accuracy: 0.9348 - val_loss: 0.1844 - val_accuracy: 0.9307\n",
      "Epoch 21/25\n",
      "60000/60000 [==============================] - 154s 3ms/step - loss: 0.1797 - accuracy: 0.9349 - val_loss: 0.1850 - val_accuracy: 0.9320\n",
      "Epoch 22/25\n",
      "60000/60000 [==============================] - 146s 2ms/step - loss: 0.1789 - accuracy: 0.9346 - val_loss: 0.1831 - val_accuracy: 0.9329\n",
      "Epoch 23/25\n",
      "60000/60000 [==============================] - 153s 3ms/step - loss: 0.1752 - accuracy: 0.9355 - val_loss: 0.1821 - val_accuracy: 0.9316\n",
      "Epoch 24/25\n",
      "60000/60000 [==============================] - 162s 3ms/step - loss: 0.1740 - accuracy: 0.9359 - val_loss: 0.1825 - val_accuracy: 0.9318\n",
      "Epoch 25/25\n",
      "60000/60000 [==============================] - 144s 2ms/step - loss: 0.1718 - accuracy: 0.9374 - val_loss: 0.1836 - val_accuracy: 0.9322\n"
     ]
    }
   ],
   "source": [
    "# train the network\n",
    "print(\"[INFO] training model...\")\n",
    "H = model.fit(trainX, trainY,\n",
    "    validation_data=(testX, testY),\n",
    "    batch_size=BS, epochs=NUM_EPOCHS)"
   ]
  },
  {
   "cell_type": "markdown",
   "metadata": {},
   "source": [
    "## Persisting the trained model"
   ]
  },
  {
   "cell_type": "code",
   "execution_count": 14,
   "metadata": {},
   "outputs": [
    {
     "name": "stdout",
     "output_type": "stream",
     "text": [
      "Saved model to disk\n"
     ]
    }
   ],
   "source": [
    "# create dir\n",
    "if not os.path.exists(\"fashion_mnist\"):\n",
    "    os.mkdir(\"fashion_mnist\")\n",
    "\n",
    "# serialize model to JSON\n",
    "model_json = model.to_json()\n",
    "with open(\"fashion_mnist/fashion_mnist_keras.json\", \"w\") as json_file:\n",
    "    json_file.write(model_json)\n",
    "\n",
    "# serialize training history\n",
    "save_history(\"fashion_mnist/fashion_mnist_keras_history.h5\", H)\n",
    "    \n",
    "# serialize weights to HDF5\n",
    "model.save_weights(\"fashion_mnist/fashion_mnist_keras.h5\")\n",
    "print(\"Saved model to disk\")"
   ]
  },
  {
   "cell_type": "markdown",
   "metadata": {},
   "source": [
    "## Loading the persisted model"
   ]
  },
  {
   "cell_type": "code",
   "execution_count": 15,
   "metadata": {},
   "outputs": [
    {
     "name": "stdout",
     "output_type": "stream",
     "text": [
      "Loaded model from disk\n"
     ]
    }
   ],
   "source": [
    "json_file = open('fashion_mnist/fashion_mnist_keras.json', 'r')\n",
    "loaded_model_json = json_file.read()\n",
    "json_file.close()\n",
    "\n",
    "loaded_model = model_from_json(loaded_model_json)\n",
    "\n",
    "# load weights into new model\n",
    "loaded_model.load_weights(\"fashion_mnist/fashion_mnist_keras.h5\")\n",
    "print(\"Loaded model from disk\")\n",
    "\n",
    "# serialize training history\n",
    "training_history = load_history(\"fashion_mnist/fashion_mnist_keras_history.h5\")\n",
    "\n",
    "# evaluate loaded model on test data\n",
    "loaded_model.compile(loss=\"categorical_crossentropy\", optimizer=opt, metrics=[\"accuracy\"])\n",
    "model = loaded_model"
   ]
  },
  {
   "cell_type": "markdown",
   "metadata": {},
   "source": [
    "## Evaluating the Model"
   ]
  },
  {
   "cell_type": "code",
   "execution_count": 17,
   "metadata": {},
   "outputs": [
    {
     "name": "stdout",
     "output_type": "stream",
     "text": [
      "[INFO] evaluating network...\n",
      "              precision    recall  f1-score   support\n",
      "\n",
      "         top       0.89      0.87      0.88      1000\n",
      "     trouser       1.00      0.98      0.99      1000\n",
      "    pullover       0.92      0.90      0.91      1000\n",
      "       dress       0.93      0.93      0.93      1000\n",
      "        coat       0.89      0.90      0.89      1000\n",
      "      sandal       0.99      0.99      0.99      1000\n",
      "       shirt       0.79      0.81      0.80      1000\n",
      "     sneaker       0.96      0.98      0.97      1000\n",
      "         bag       0.99      0.99      0.99      1000\n",
      "  ankle boot       0.98      0.96      0.97      1000\n",
      "\n",
      "    accuracy                           0.93     10000\n",
      "   macro avg       0.93      0.93      0.93     10000\n",
      "weighted avg       0.93      0.93      0.93     10000\n",
      "\n"
     ]
    }
   ],
   "source": [
    "# make predictions on the test set\n",
    "preds = model.predict(testX)\n",
    "\n",
    "# show a nicely formatted classification report\n",
    "print(\"[INFO] evaluating network...\")\n",
    "print(classification_report(testY.argmax(axis=1), preds.argmax(axis=1),\n",
    "    target_names=labelNames))"
   ]
  },
  {
   "cell_type": "code",
   "execution_count": 18,
   "metadata": {},
   "outputs": [
    {
     "data": {
      "image/png": "[encoded data removed]",
      "text/plain": [
       "<Figure size 432x288 with 1 Axes>"
      ]
     },
     "metadata": {},
     "output_type": "display_data"
    }
   ],
   "source": [
    "# plot the training loss and accuracy\n",
    "N = NUM_EPOCHS\n",
    "plt.style.use(\"ggplot\")\n",
    "plt.figure()\n",
    "plt.plot(np.arange(0, N), training_history[\"loss\"], label=\"train_loss\")\n",
    "plt.plot(np.arange(0, N), training_history[\"val_loss\"], label=\"val_loss\")\n",
    "plt.plot(np.arange(0, N), training_history[\"accuracy\"], label=\"train_acc\")\n",
    "plt.plot(np.arange(0, N), training_history[\"val_accuracy\"], label=\"val_acc\")\n",
    "plt.title(\"Training Loss and Accuracy on Dataset\")\n",
    "plt.xlabel(\"Epoch #\")\n",
    "plt.ylabel(\"Loss/Accuracy\")\n",
    "plt.legend(loc=\"lower left\")\n",
    "plt.show()"
   ]
  },
  {
   "cell_type": "code",
   "execution_count": 19,
   "metadata": {},
   "outputs": [
    {
     "data": {
      "image/png": "[encoded data removed]",
      "text/plain": [
       "<Figure size 432x288 with 1 Axes>"
      ]
     },
     "metadata": {
      "needs_background": "light"
     },
     "output_type": "display_data"
    }
   ],
   "source": [
    "%matplotlib inline\n",
    "\n",
    "# initialize our list of output images\n",
    "images = []\n",
    "\n",
    "# randomly select a few testing fashion items\n",
    "for i in np.random.choice(np.arange(0, len(testY)), size=(16,)):\n",
    "    # classify the clothing\n",
    "    probs = model.predict(testX[np.newaxis, i])\n",
    "    prediction = probs.argmax(axis=1)\n",
    "    label = labelNames[prediction[0]]\n",
    " \n",
    "    # extract the image from the testData if using \"channels_first\"\n",
    "    # ordering\n",
    "    if K.image_data_format() == \"channels_first\":\n",
    "        image = (testX[i][0] * 255).astype(\"uint8\")\n",
    " \n",
    "    # otherwise we are using \"channels_last\" ordering\n",
    "    else:\n",
    "        image = (testX[i] * 255).astype(\"uint8\")\n",
    "\n",
    "    # initialize the text label color as green (correct)\n",
    "    color = (0, 255, 0)\n",
    "\n",
    "    # otherwise, the class label prediction is incorrect\n",
    "    if prediction[0] != np.argmax(testY[i]):\n",
    "        color = (0, 0, 255)\n",
    " \n",
    "    # merge the channels into one image and resize the image from\n",
    "    # 28x28 to 96x96 so we can better see it and then draw the\n",
    "    # predicted label on the image\n",
    "    image = cv2.merge([image] * 3)\n",
    "    image = cv2.resize(image, (96, 96), interpolation=cv2.INTER_LINEAR)\n",
    "    cv2.putText(image, label, (5, 20), cv2.FONT_HERSHEY_SIMPLEX, 0.75,\n",
    "        color, 2)\n",
    "    \n",
    "    # add the image to our list of output images\n",
    "    images.append(image)\n",
    "\n",
    "# construct the montage for the images\n",
    "montage = build_montages(images, (96, 96), (4, 4))[0]\n",
    "\n",
    "# show the output montage\n",
    "# cv2.imshow(\"Fashion MNIST\", montage)\n",
    "# cv2.waitKey(0)\n",
    "plt.imshow(montage)\n",
    "plt.show()"
   ]
  },
  {
   "cell_type": "markdown",
   "metadata": {},
   "source": [
    "# Important Notes"
   ]
  },
  {
   "cell_type": "markdown",
   "metadata": {},
   "source": [
    "Input images are assumed to be:\n",
    "* Converted to grayscale.\n",
    "* Segmented, such that all background pixels are black and all foreground pixels are some gray, non-black pixel intensity.\n",
    "* Resized to 28×28 pixels.\n",
    "\n",
    "Sample code for image preprocessing: \n",
    "\n",
    "`from keras.preprocessing.image import ImageDataGenerator`\n",
    "\n",
    "`ImageDataGenerator.flow_from_directory(dir_path, target_size=(32, 32), classes=[\"cat\", \"dog\"], batch_size=10)`"
   ]
  },
  {
   "cell_type": "markdown",
   "metadata": {},
   "source": [
    "For more real world model fine-tuned from some pre-trained model, example of model pre-trained for 1000 categories:\n",
    "    \n",
    "```\n",
    "vgg16_model = keras.application.vgg16.VGG16()\n",
    "model = Sequential()\n",
    "\n",
    "for layer in vgg16_model.layers:\n",
    "    model.add(layer)\n",
    "    \n",
    "model.pop() # Removes the last layer (softmax for 1000 categories)\n",
    "\n",
    "# Prevents layers from being re-trained (only new layers should be trained)\n",
    "for layer in model.layers:\n",
    "    layer.trainable = False\n",
    "    \n",
    "# New layer for custom number of categories\n",
    "model.add(Dense(400, activation=\"softmax\"))\n",
    "\n",
    "```\n",
    "\n",
    "More on fine-tunning: https://youtu.be/INaX55V1zpY"
   ]
  }
 ],
 "metadata": {
  "kernelspec": {
   "display_name": "Python 3",
   "language": "python",
   "name": "python3"
  },
  "language_info": {
   "codemirror_mode": {
    "name": "ipython",
    "version": 3
   },
   "file_extension": ".py",
   "mimetype": "text/x-python",
   "name": "python",
   "nbconvert_exporter": "python",
   "pygments_lexer": "ipython3",
   "version": "3.7.6"
  }
 },
 "nbformat": 4,
 "nbformat_minor": 2
}
